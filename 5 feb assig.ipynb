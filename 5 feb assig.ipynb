{
 "cells": [
  {
   "cell_type": "markdown",
   "id": "b56ae380-b0fc-4598-95a2-57d4289c3c76",
   "metadata": {},
   "source": [
    "# ASSIGNMENT-6"
   ]
  },
  {
   "cell_type": "markdown",
   "id": "12aaa6cf-72a0-4e5d-845e-f8dc9083fced",
   "metadata": {},
   "source": [
    "# Answer-1"
   ]
  },
  {
   "cell_type": "code",
   "execution_count": 1,
   "id": "2dd5d114-d973-41ad-8348-e9e92bc6bb65",
   "metadata": {},
   "outputs": [],
   "source": [
    "# A class is a user-defined blueprint or prototype from which objects are created. Classes provide a means of bundling data and functionality together.\n",
    "# Creating a new class creates a new type of object, allowing new instances of that type to be made. \n",
    "# Each class instance can have attributes attached to it for maintaining its state.\n",
    "# Class instances can also have methods (defined by their class) for modifying their state.\n",
    "\n",
    "# An Object is an instance of a Class. A class is like a blueprint while an instance is a copy of the class with actual values.It’s not an idea anymore"
   ]
  },
  {
   "cell_type": "code",
   "execution_count": 5,
   "id": "62688042-e2ce-45e6-bdb7-24951f6989e0",
   "metadata": {},
   "outputs": [],
   "source": [
    "# Example\n",
    "class name:\n",
    "    def user(self):\n",
    "        print(\"Hello,I am Deepsiya Arora\")"
   ]
  },
  {
   "cell_type": "code",
   "execution_count": 6,
   "id": "037f5f76-1b23-4165-8bcb-9081f15153f8",
   "metadata": {},
   "outputs": [],
   "source": [
    "diya=name()"
   ]
  },
  {
   "cell_type": "code",
   "execution_count": 7,
   "id": "3012e527-752c-4f67-894d-5c8d57ceb1bd",
   "metadata": {},
   "outputs": [
    {
     "name": "stdout",
     "output_type": "stream",
     "text": [
      "Hello,I am Deepsiya Arora\n"
     ]
    }
   ],
   "source": [
    "diya.user()"
   ]
  },
  {
   "cell_type": "markdown",
   "id": "3d9ce641-2799-474d-a9d8-f2f15e6b428b",
   "metadata": {},
   "source": [
    "# Answer-2"
   ]
  },
  {
   "cell_type": "code",
   "execution_count": 1,
   "id": "6a46e469-96b8-43d7-a88e-21c95b7c0d5c",
   "metadata": {},
   "outputs": [],
   "source": [
    "# The four pillars of OOP or Object Oriented Programming are as follows:\n",
    "\n",
    "# 1) Inheritance\n",
    "# 2) Encapsulation\n",
    "# 3) Polymorphism\n",
    "# 4) Abstraction"
   ]
  },
  {
   "cell_type": "markdown",
   "id": "54ca1111-f235-4b89-a955-36d04f7f3387",
   "metadata": {},
   "source": [
    "# Answer-3"
   ]
  },
  {
   "cell_type": "code",
   "execution_count": 2,
   "id": "b28cfe67-c4fa-47aa-b178-e00d518e3978",
   "metadata": {},
   "outputs": [],
   "source": [
    "# In python the constructor method is __init__()\n",
    "# Constructors can very simply be understood as a special method that is called during the object initialization/creation. \n",
    "# The constructor is usually defined as a function in the class definition that takes in the state parameters and creates an object with\n",
    "# those user-defined parameters."
   ]
  },
  {
   "cell_type": "code",
   "execution_count": 3,
   "id": "c0ac22b6-9a85-4151-a1d1-825b00ac4a0f",
   "metadata": {},
   "outputs": [],
   "source": [
    "# example\n",
    "class user:\n",
    "    def __init__(self,n,r):\n",
    "        self.name=n\n",
    "        self.roll=r\n",
    "        \n",
    "    def return_value(self):\n",
    "        return self.name,self.roll"
   ]
  },
  {
   "cell_type": "code",
   "execution_count": 5,
   "id": "bfd60089-13fb-4d02-ae2a-5a767661ad42",
   "metadata": {},
   "outputs": [],
   "source": [
    "diya=user('deepsiya',114)"
   ]
  },
  {
   "cell_type": "code",
   "execution_count": 6,
   "id": "e10658a0-134f-415d-90ce-5f6ded18b597",
   "metadata": {},
   "outputs": [
    {
     "data": {
      "text/plain": [
       "('deepsiya', 114)"
      ]
     },
     "execution_count": 6,
     "metadata": {},
     "output_type": "execute_result"
    }
   ],
   "source": [
    "diya.return_value()"
   ]
  },
  {
   "cell_type": "markdown",
   "id": "202ee157-ceac-40e0-8b16-d76330f81f72",
   "metadata": {},
   "source": [
    "# Answer-4"
   ]
  },
  {
   "cell_type": "code",
   "execution_count": 7,
   "id": "9f8f6eb1-fb1f-462b-b49c-1bd7bb245ecf",
   "metadata": {},
   "outputs": [],
   "source": [
    "# self represents the instance of the class. By using the “self”  we can access the attributes and methods of the class in python. \n",
    "# It binds the attributes with the given arguments.\n",
    "# The reason to use self. is because Python does not use the @ syntax to refer to instance attributes.\n",
    "# Python decided to do methods in a way that makes the instance to which the method belongs be passed automatically,\n",
    "# but not received automatically: the first parameter of methods is the instance the method is called on."
   ]
  },
  {
   "cell_type": "markdown",
   "id": "f4b0dbca-ebc5-43ab-8de9-a3f6f185902d",
   "metadata": {},
   "source": [
    "# Answer-5"
   ]
  },
  {
   "cell_type": "code",
   "execution_count": 1,
   "id": "a31bbc01-1aed-4f0f-b955-dadd6c4bb378",
   "metadata": {},
   "outputs": [],
   "source": [
    "# One of the core concepts in object-oriented programming (OOP) languages is inheritance. It is a mechanism that allows you to\n",
    "# create a hierarchy of classes that share a set of properties and methods by deriving a class from another class.\n",
    "# Inheritance is the capability of one class to derive or inherit the properties from another class. \n",
    "\n",
    "# Types of inheritance\n",
    "# 1) Single inheritance\n",
    "# 2) multiple inheritance\n",
    "# 3) multilevel inheritance\n",
    "# 4) hybrid inheritance\n",
    "# 5) hierarichal inheritance"
   ]
  },
  {
   "cell_type": "code",
   "execution_count": 2,
   "id": "77bad225-4ace-4684-a145-c7eae9601018",
   "metadata": {},
   "outputs": [
    {
     "name": "stdout",
     "output_type": "stream",
     "text": [
      "parent class function\n",
      "derived class function\n"
     ]
    }
   ],
   "source": [
    "# single inheritance\n",
    "class parent:\n",
    "    def func1(self):\n",
    "        print(\"parent class function\")\n",
    "        \n",
    "class child(parent):\n",
    "    def func2(self):\n",
    "        print(\"derived class function\")\n",
    "        \n",
    "obj=child()\n",
    "obj.func1()\n",
    "obj.func2()"
   ]
  },
  {
   "cell_type": "code",
   "execution_count": 3,
   "id": "d13bd5dc-eef1-46a3-8c6c-84052d600193",
   "metadata": {},
   "outputs": [
    {
     "name": "stdout",
     "output_type": "stream",
     "text": [
      "parent class function\n",
      "2nd parent class function\n",
      "derived class\n"
     ]
    }
   ],
   "source": [
    "# multiple inheritance\n",
    "class parent1:\n",
    "    def func1(self):\n",
    "        print(\"parent class function\")\n",
    "        \n",
    "class parent2:\n",
    "    def func2(self):\n",
    "        print(\"2nd parent class function\")\n",
    "        \n",
    "class child1(parent1,parent2):\n",
    "    def func3(self):\n",
    "        print(\"derived class\")\n",
    "        \n",
    "obje=child1()\n",
    "obje.func1()\n",
    "obje.func2()\n",
    "obje.func3()"
   ]
  },
  {
   "cell_type": "code",
   "execution_count": 4,
   "id": "bcc1e9f8-7fee-4825-bf5b-972966eabc25",
   "metadata": {},
   "outputs": [
    {
     "name": "stdout",
     "output_type": "stream",
     "text": [
      "parent class function\n",
      "derived class function\n",
      "2nd derived function\n"
     ]
    }
   ],
   "source": [
    "#multilevel inheritance\n",
    "class parent11:\n",
    "    def func1(self):\n",
    "        print(\"parent class function\")\n",
    "        \n",
    "class child11(parent11):\n",
    "    def func2(self):\n",
    "        print(\"derived class function\")\n",
    "        \n",
    "class child22(child11):\n",
    "    def func3(self):\n",
    "        print(\"2nd derived function\")\n",
    "        \n",
    "objec=child22()\n",
    "objec.func1()\n",
    "objec.func2()\n",
    "objec.func3()"
   ]
  },
  {
   "cell_type": "code",
   "execution_count": null,
   "id": "8e7fdbf6-d5f6-4af7-9ac0-c9fef43b2d44",
   "metadata": {},
   "outputs": [],
   "source": []
  }
 ],
 "metadata": {
  "kernelspec": {
   "display_name": "Python 3 (ipykernel)",
   "language": "python",
   "name": "python3"
  },
  "language_info": {
   "codemirror_mode": {
    "name": "ipython",
    "version": 3
   },
   "file_extension": ".py",
   "mimetype": "text/x-python",
   "name": "python",
   "nbconvert_exporter": "python",
   "pygments_lexer": "ipython3",
   "version": "3.10.8"
  }
 },
 "nbformat": 4,
 "nbformat_minor": 5
}
